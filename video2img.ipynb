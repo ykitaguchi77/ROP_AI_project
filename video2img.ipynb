{
 "cells": [
  {
   "cell_type": "markdown",
   "metadata": {},
   "source": [
    "# **MOVIE2IMG**\n",
    "\n",
    "MP4ファイルをjpgファイルに分割"
   ]
  },
  {
   "cell_type": "code",
   "execution_count": 13,
   "metadata": {},
   "outputs": [
    {
     "name": "stderr",
     "output_type": "stream",
     "text": [
      "フレーム抽出中: 100%|██████████| 888/888 [00:40<00:00, 22.12it/s]"
     ]
    },
    {
     "name": "stdout",
     "output_type": "stream",
     "text": [
      "\n",
      "合計 888 フレームを抽出しました\n"
     ]
    },
    {
     "name": "stderr",
     "output_type": "stream",
     "text": [
      "\n"
     ]
    }
   ],
   "source": [
    "import cv2\n",
    "import os\n",
    "from tqdm import tqdm\n",
    "\n",
    "def extract_frames(video_path, output_dir):\n",
    "    # 出力ディレクトリの作成\n",
    "    os.makedirs(output_dir, exist_ok=True)\n",
    "    \n",
    "    # 動画の読み込み\n",
    "    cap = cv2.VideoCapture(video_path)\n",
    "    \n",
    "    # 総フレーム数の取得\n",
    "    total_frames = int(cap.get(cv2.CAP_PROP_FRAME_COUNT))\n",
    "    \n",
    "    # tqdmで進捗バーを表示\n",
    "    with tqdm(total=total_frames, desc='フレーム抽出中') as pbar:\n",
    "        frame_count = 0\n",
    "        \n",
    "        while True:\n",
    "            # フレームの読み込み\n",
    "            ret, frame = cap.read()\n",
    "            \n",
    "            # 読み込みが終了したらループを抜ける\n",
    "            if not ret:\n",
    "                break\n",
    "                \n",
    "            # フレームを保存\n",
    "            output_path = os.path.join(output_dir, f'{os.path.basename(output_dir)}_{frame_count:04d}.jpg')\n",
    "            cv2.imwrite(output_path, frame)\n",
    "            \n",
    "            frame_count += 1\n",
    "            pbar.update(1)\n",
    "        \n",
    "    # キャプチャの解放\n",
    "    cap.release()\n",
    "    \n",
    "    print(f'\\n合計 {frame_count} フレームを抽出しました')\n",
    "\n",
    "def main():\n",
    "    # 入力動画のパス\n",
    "    video_path = r'ROP_video\\IMG_1703.mp4'\n",
    "    \n",
    "    # 出力ディレクトリ\n",
    "    output_dir = r'ROP_image\\IMG_1703'\n",
    "    \n",
    "    # フレーム抽出の実行\n",
    "    extract_frames(video_path, output_dir)\n",
    "\n",
    "if __name__ == '__main__':\n",
    "    main()"
   ]
  }
 ],
 "metadata": {
  "kernelspec": {
   "display_name": "ropenv",
   "language": "python",
   "name": "python3"
  },
  "language_info": {
   "codemirror_mode": {
    "name": "ipython",
    "version": 3
   },
   "file_extension": ".py",
   "mimetype": "text/x-python",
   "name": "python",
   "nbconvert_exporter": "python",
   "pygments_lexer": "ipython3",
   "version": "3.8.6"
  }
 },
 "nbformat": 4,
 "nbformat_minor": 2
}
